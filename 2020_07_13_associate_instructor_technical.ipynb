{
 "cells": [
  {
   "cell_type": "markdown",
   "metadata": {
    "colab_type": "text",
    "id": "_Gvm1BZXjuBx"
   },
   "source": [
    "Lambda School Data Science\n",
    "\n",
    "---"
   ]
  },
  {
   "cell_type": "markdown",
   "metadata": {
    "colab_type": "text",
    "id": "7IXUfiQ2UKj6"
   },
   "source": [
    "# Logistic Regression\n",
    "\n",
    "\n",
    "## Assignment 🌯\n",
    "\n",
    "Using a [**dataset of 400+ burrito reviews**](https://srcole.github.io/100burritos/), build a model that predicts whether a burrito is rated `'Great'`?\n",
    "\n",
    "## What We Want\n",
    "\n",
    "*Associate Instructor* is a teaching position where you will work closely students — delivering curriculum, and leading question and answer sessions. The purpose of this assignment is to give us an idea of how you approach data science problems and whether you can explain that approach to someone who does not yet have your level of expertise. Given this, we are less interested you building a \"perfect\" model and more focused on how you use this assignment to teach important concepts to a data science student.\n",
    "\n",
    "## What You Need to Do\n",
    "\n",
    "- [ ] Make a copy of this notebook to work on - you can download if you have a local Jupyter setup, or click `File > Save a copy in Drive` to copy and work on with Google Colab\n",
    "- [ ] Import the burrito `csv` file into a `DataFrame`. Your target will be the `'Great'` column.\n",
    "- [ ] Conduct exploratory data analysis (EDA) to determine how you should clean the data for your pipeline.\n",
    "- [ ] Clean your data. (Note: You are not required to use all columns in your model, but justify your decisions based on your EDA.)\n",
    "- [ ] Do train/validate/test split. Train on reviews from 2016 & earlier. Validate on 2017. Test on 2018 & later.\n",
    "- [ ] Determine what the baseline accuracy is for a naïve classification model.\n",
    "- [ ] Create a `scikit-learn` pipeline with the following components:\n",
    "  - A one hot encoder for categorical features.\n",
    "  - A scaler.\n",
    "  - A logistic regressor.\n",
    "- [ ] Train your model using the training data.\n",
    "- [ ] Create a visualization showing your model's coefficients.\n",
    "- [ ] Get your model's validation accuracy (multiple times if you try multiple iterations).\n",
    "- [ ] Get your model's test accuracy (one time, at the end).\n",
    "\n",
    "---"
   ]
  },
  {
   "cell_type": "markdown",
   "metadata": {
    "colab_type": "text",
    "id": "UhHu6AF7ML3p"
   },
   "source": [
    "### Import the burrito `csv` file\n",
    "the \"read_csv\" method can be used to import data from a csv file, either locally, or from URL"
   ]
  },
  {
   "cell_type": "code",
   "execution_count": 1,
   "metadata": {
    "colab": {},
    "colab_type": "code",
    "id": "stdgqGAYjuB3"
   },
   "outputs": [],
   "source": [
    "# Import Data and libraries\n",
    "import pandas as pd\n",
    "import numpy as np\n",
    "from sklearn.pipeline import Pipeline\n",
    "from sklearn.compose import ColumnTransformer\n",
    "from sklearn.metrics import accuracy_score\n",
    "from sklearn.linear_model import LogisticRegression\n",
    "from sklearn.impute import SimpleImputer\n",
    "from sklearn.preprocessing import StandardScaler, OneHotEncoder\n",
    "import matplotlib.pyplot as plt\n",
    "\n",
    "df = pd.read_csv('https://drive.google.com/uc?export=download&id=1cctPq1sYeD6Y6mGg5Lpl-GLDJBwtdihg')"
   ]
  },
  {
   "cell_type": "markdown",
   "metadata": {
    "colab_type": "text",
    "id": "4km-WYWpMoYw"
   },
   "source": [
    "### Conduct exploratory data analysis (EDA)"
   ]
  },
  {
   "cell_type": "markdown",
   "metadata": {},
   "source": [
    "#### First lets take a look at the data frame that we just imported"
   ]
  },
  {
   "cell_type": "code",
   "execution_count": 2,
   "metadata": {},
   "outputs": [
    {
     "data": {
      "text/html": [
       "<div>\n",
       "<style scoped>\n",
       "    .dataframe tbody tr th:only-of-type {\n",
       "        vertical-align: middle;\n",
       "    }\n",
       "\n",
       "    .dataframe tbody tr th {\n",
       "        vertical-align: top;\n",
       "    }\n",
       "\n",
       "    .dataframe thead th {\n",
       "        text-align: right;\n",
       "    }\n",
       "</style>\n",
       "<table border=\"1\" class=\"dataframe\">\n",
       "  <thead>\n",
       "    <tr style=\"text-align: right;\">\n",
       "      <th></th>\n",
       "      <th>Location</th>\n",
       "      <th>Burrito</th>\n",
       "      <th>Date</th>\n",
       "      <th>Neighborhood</th>\n",
       "      <th>Address</th>\n",
       "      <th>URL</th>\n",
       "      <th>Yelp</th>\n",
       "      <th>Google</th>\n",
       "      <th>Chips</th>\n",
       "      <th>Cost</th>\n",
       "      <th>...</th>\n",
       "      <th>Lobster</th>\n",
       "      <th>Queso</th>\n",
       "      <th>Egg</th>\n",
       "      <th>Mushroom</th>\n",
       "      <th>Bacon</th>\n",
       "      <th>Sushi</th>\n",
       "      <th>Avocado</th>\n",
       "      <th>Corn</th>\n",
       "      <th>Zucchini</th>\n",
       "      <th>Great</th>\n",
       "    </tr>\n",
       "  </thead>\n",
       "  <tbody>\n",
       "    <tr>\n",
       "      <th>0</th>\n",
       "      <td>Donato's taco shop</td>\n",
       "      <td>California</td>\n",
       "      <td>1/18/2016</td>\n",
       "      <td>Miramar</td>\n",
       "      <td>6780 Miramar Rd</td>\n",
       "      <td>http://donatostacoshop.net/</td>\n",
       "      <td>3.5</td>\n",
       "      <td>4.2</td>\n",
       "      <td>NaN</td>\n",
       "      <td>6.49</td>\n",
       "      <td>...</td>\n",
       "      <td>NaN</td>\n",
       "      <td>NaN</td>\n",
       "      <td>NaN</td>\n",
       "      <td>NaN</td>\n",
       "      <td>NaN</td>\n",
       "      <td>NaN</td>\n",
       "      <td>NaN</td>\n",
       "      <td>NaN</td>\n",
       "      <td>NaN</td>\n",
       "      <td>False</td>\n",
       "    </tr>\n",
       "    <tr>\n",
       "      <th>1</th>\n",
       "      <td>Oscar's Mexican food</td>\n",
       "      <td>California</td>\n",
       "      <td>1/24/2016</td>\n",
       "      <td>San Marcos</td>\n",
       "      <td>225 S Rancho Santa Fe Rd</td>\n",
       "      <td>http://www.yelp.com/biz/oscars-mexican-food-sa...</td>\n",
       "      <td>3.5</td>\n",
       "      <td>3.3</td>\n",
       "      <td>NaN</td>\n",
       "      <td>5.45</td>\n",
       "      <td>...</td>\n",
       "      <td>NaN</td>\n",
       "      <td>NaN</td>\n",
       "      <td>NaN</td>\n",
       "      <td>NaN</td>\n",
       "      <td>NaN</td>\n",
       "      <td>NaN</td>\n",
       "      <td>NaN</td>\n",
       "      <td>NaN</td>\n",
       "      <td>NaN</td>\n",
       "      <td>False</td>\n",
       "    </tr>\n",
       "    <tr>\n",
       "      <th>2</th>\n",
       "      <td>Oscar's Mexican food</td>\n",
       "      <td>Carnitas</td>\n",
       "      <td>1/24/2016</td>\n",
       "      <td>NaN</td>\n",
       "      <td>NaN</td>\n",
       "      <td>NaN</td>\n",
       "      <td>NaN</td>\n",
       "      <td>NaN</td>\n",
       "      <td>NaN</td>\n",
       "      <td>4.85</td>\n",
       "      <td>...</td>\n",
       "      <td>NaN</td>\n",
       "      <td>NaN</td>\n",
       "      <td>NaN</td>\n",
       "      <td>NaN</td>\n",
       "      <td>NaN</td>\n",
       "      <td>NaN</td>\n",
       "      <td>NaN</td>\n",
       "      <td>NaN</td>\n",
       "      <td>NaN</td>\n",
       "      <td>False</td>\n",
       "    </tr>\n",
       "    <tr>\n",
       "      <th>3</th>\n",
       "      <td>Oscar's Mexican food</td>\n",
       "      <td>Carne asada</td>\n",
       "      <td>1/24/2016</td>\n",
       "      <td>NaN</td>\n",
       "      <td>NaN</td>\n",
       "      <td>NaN</td>\n",
       "      <td>NaN</td>\n",
       "      <td>NaN</td>\n",
       "      <td>NaN</td>\n",
       "      <td>5.25</td>\n",
       "      <td>...</td>\n",
       "      <td>NaN</td>\n",
       "      <td>NaN</td>\n",
       "      <td>NaN</td>\n",
       "      <td>NaN</td>\n",
       "      <td>NaN</td>\n",
       "      <td>NaN</td>\n",
       "      <td>NaN</td>\n",
       "      <td>NaN</td>\n",
       "      <td>NaN</td>\n",
       "      <td>False</td>\n",
       "    </tr>\n",
       "    <tr>\n",
       "      <th>4</th>\n",
       "      <td>Pollos Maria</td>\n",
       "      <td>California</td>\n",
       "      <td>1/27/2016</td>\n",
       "      <td>Carlsbad</td>\n",
       "      <td>3055 Harding St</td>\n",
       "      <td>http://pollosmaria.com/</td>\n",
       "      <td>4.0</td>\n",
       "      <td>3.8</td>\n",
       "      <td>x</td>\n",
       "      <td>6.59</td>\n",
       "      <td>...</td>\n",
       "      <td>NaN</td>\n",
       "      <td>NaN</td>\n",
       "      <td>NaN</td>\n",
       "      <td>NaN</td>\n",
       "      <td>NaN</td>\n",
       "      <td>NaN</td>\n",
       "      <td>NaN</td>\n",
       "      <td>NaN</td>\n",
       "      <td>NaN</td>\n",
       "      <td>True</td>\n",
       "    </tr>\n",
       "  </tbody>\n",
       "</table>\n",
       "<p>5 rows × 65 columns</p>\n",
       "</div>"
      ],
      "text/plain": [
       "               Location      Burrito       Date Neighborhood  \\\n",
       "0    Donato's taco shop  California   1/18/2016      Miramar   \n",
       "1  Oscar's Mexican food  California   1/24/2016   San Marcos   \n",
       "2  Oscar's Mexican food     Carnitas  1/24/2016          NaN   \n",
       "3  Oscar's Mexican food  Carne asada  1/24/2016          NaN   \n",
       "4          Pollos Maria   California  1/27/2016     Carlsbad   \n",
       "\n",
       "                    Address  \\\n",
       "0           6780 Miramar Rd   \n",
       "1  225 S Rancho Santa Fe Rd   \n",
       "2                       NaN   \n",
       "3                       NaN   \n",
       "4           3055 Harding St   \n",
       "\n",
       "                                                 URL  Yelp  Google Chips  \\\n",
       "0                        http://donatostacoshop.net/   3.5     4.2   NaN   \n",
       "1  http://www.yelp.com/biz/oscars-mexican-food-sa...   3.5     3.3   NaN   \n",
       "2                                                NaN   NaN     NaN   NaN   \n",
       "3                                                NaN   NaN     NaN   NaN   \n",
       "4                            http://pollosmaria.com/   4.0     3.8     x   \n",
       "\n",
       "   Cost  ...    Lobster  Queso  Egg  Mushroom  Bacon  Sushi  Avocado  Corn  \\\n",
       "0  6.49  ...        NaN    NaN  NaN       NaN    NaN    NaN      NaN   NaN   \n",
       "1  5.45  ...        NaN    NaN  NaN       NaN    NaN    NaN      NaN   NaN   \n",
       "2  4.85  ...        NaN    NaN  NaN       NaN    NaN    NaN      NaN   NaN   \n",
       "3  5.25  ...        NaN    NaN  NaN       NaN    NaN    NaN      NaN   NaN   \n",
       "4  6.59  ...        NaN    NaN  NaN       NaN    NaN    NaN      NaN   NaN   \n",
       "\n",
       "   Zucchini  Great  \n",
       "0       NaN  False  \n",
       "1       NaN  False  \n",
       "2       NaN  False  \n",
       "3       NaN  False  \n",
       "4       NaN   True  \n",
       "\n",
       "[5 rows x 65 columns]"
      ]
     },
     "execution_count": 2,
     "metadata": {},
     "output_type": "execute_result"
    }
   ],
   "source": [
    "df.head()"
   ]
  },
  {
   "cell_type": "markdown",
   "metadata": {},
   "source": [
    "#### What are we looking at?\n",
    "* By using the \"head\" method we can see the first few rows of data. <br>\n",
    "* We can see that there are 65 columns in this dataframe <br>\n",
    "* The last column will be our target (the 'Great' column). <br>\n",
    "* This gives us 64 potential features to play with in our model. <br>\n",
    "* But, it also looks like this datset contains rows with a lot of missing values which will need to be replaced or removed. And some columns, may not be immidiately useful for linear regression, like the website URL or address.\n",
    "\n",
    "##### \"head\" will not always show us all of the column names, so lets list them out below:"
   ]
  },
  {
   "cell_type": "code",
   "execution_count": 3,
   "metadata": {},
   "outputs": [
    {
     "name": "stdout",
     "output_type": "stream",
     "text": [
      "Column Names: ['Location' 'Burrito' 'Date' 'Neighborhood' 'Address' 'URL' 'Yelp'\n",
      " 'Google' 'Chips' 'Cost' 'Hunger' 'Mass (g)' 'Density (g/mL)' 'Length'\n",
      " 'Circum' 'Volume' 'Tortilla' 'Temp' 'Meat' 'Fillings' 'Meat:filling'\n",
      " 'Uniformity' 'Salsa' 'Synergy' 'Wrap' 'Reviewer' 'Notes' 'Unreliable'\n",
      " 'NonSD' 'Beef' 'Pico' 'Guac' 'Cheese' 'Fries' 'Sour cream' 'Pork'\n",
      " 'Chicken' 'Shrimp' 'Fish' 'Rice' 'Beans' 'Lettuce' 'Tomato' 'Bell peper'\n",
      " 'Carrots' 'Cabbage' 'Sauce' 'Salsa.1' 'Cilantro' 'Onion' 'Taquito'\n",
      " 'Pineapple' 'Ham' 'Chile relleno' 'Nopales' 'Lobster' 'Queso' 'Egg'\n",
      " 'Mushroom' 'Bacon' 'Sushi' 'Avocado' 'Corn' 'Zucchini' 'Great']\n"
     ]
    }
   ],
   "source": [
    "print(f'Column Names: {df.columns.values}')"
   ]
  },
  {
   "cell_type": "markdown",
   "metadata": {},
   "source": [
    "#### OK, Lets Choose Some Features!\n",
    "There are two types of features that we will want to use in our model, <b>catagorical</b>, and <b>numerical</b>. For our purposes, we can drop the following, because they do not neatly fit into catagories, or provide numberical values. Most of these will provide a unique entry for each entry, making them less useful for our model.\n",
    "<br>\n",
    "* Address\n",
    "* URL\n",
    "* Reviewer \n",
    "* Notes\n",
    "* Burrito\n",
    "* Neighborhood\n",
    "* Date - we will not be taking seasonality into account for today's model"
   ]
  },
  {
   "cell_type": "code",
   "execution_count": 4,
   "metadata": {},
   "outputs": [],
   "source": [
    "# Getting rid of the columns we won't be using, we'll run this later\n",
    "def remove_unused(df):\n",
    "    return df.drop(['Address', 'URL', 'Reviewer', 'Notes', 'Date', 'Burrito', 'Neighborhood'], axis=1)"
   ]
  },
  {
   "cell_type": "markdown",
   "metadata": {},
   "source": [
    "\n",
    "\n",
    "\n",
    "###### Ingredient Catagorical Features\n",
    "Perhaps the \"greatness\" of a burrito is in the sum of it's parts. I want to try and include all of the ingredients possible. All of these columns indicate whether the burrito includes the ingredient in a boolean-like way (meaning they either have the ingredient, or they do not). Some of the ingredients include: Beef, Pico, Guac...ect\n",
    "<br>\n",
    "\n",
    "###### Other Boolean-like Catagorical Features\n",
    "There are also other categorical features that can be treated similarly to ingredients, these include \"Chips\", \"Unreliable\" and \"NonSD\"\n",
    "\n",
    "###### All other Catagorical features\n",
    "The other features that still exist in our dataframe should either have more than 2 categories, or be purely numerical. For example, features like \"Neighborhood\" and \"Burrito\" will have a variety of categories. We won't be using them in today's model"
   ]
  },
  {
   "cell_type": "code",
   "execution_count": 5,
   "metadata": {},
   "outputs": [
    {
     "name": "stdout",
     "output_type": "stream",
     "text": [
      "[nan]\n",
      "[nan 'x']\n",
      "['x' nan 'X']\n",
      "[nan 'x' 'X' 'Yes' 'No']\n"
     ]
    }
   ],
   "source": [
    "# It appears that these features represent whether they have an ingredient/feature by including an \"x\", \"X\", or \"Yes\"\n",
    "print(df['Queso'].unique())\n",
    "print(df['Unreliable'].unique())\n",
    "print(df['Guac'].unique())\n",
    "print(df['Chips'].unique())"
   ]
  },
  {
   "cell_type": "markdown",
   "metadata": {},
   "source": [
    "<b>As we can see above, there are multiple values used to denote whether an ingredient is present in the meal, we need to standardize this \"x\", \"X\" and \"Yes\" can all represent the same thing</b>"
   ]
  },
  {
   "cell_type": "markdown",
   "metadata": {},
   "source": [
    "### Clean data\n",
    "\n",
    "#### Categorical\n",
    "Now I'll define a function that will help us to identify and encode our categorical features<br>\n",
    "Feel free to read through the comments to get a better understanding of what each step is doing\n"
   ]
  },
  {
   "cell_type": "code",
   "execution_count": 6,
   "metadata": {},
   "outputs": [],
   "source": [
    "# Lets define the categorical columns to reference later\n",
    "categorical_cols = ['Queso',\n",
    "       'Chips', 'Unreliable', 'NonSD', 'Beef', 'Pico',\n",
    "       'Guac', 'Cheese', 'Fries', 'Sour cream', 'Pork', 'Chicken', 'Shrimp',\n",
    "       'Fish', 'Rice', 'Beans', 'Lettuce', 'Tomato', 'Bell peper', 'Carrots',\n",
    "       'Cabbage', 'Sauce', 'Salsa.1', 'Cilantro', 'Onion', 'Taquito',\n",
    "       'Pineapple', 'Ham', 'Chile relleno', 'Nopales', 'Lobster', 'Egg',\n",
    "       'Mushroom', 'Bacon', 'Sushi', 'Avocado', 'Corn', 'Zucchini']\n",
    "\n",
    "# This is the function we will call in order to execute all of the steps needed to clean our categorical data\n",
    "def clean_categorical(df):\n",
    "    \n",
    "    # Lets replace all values that denote \"yes\" with the letter 'y'\n",
    "    df = df.replace(['x', 'X', 'Yes'], 'y')\n",
    "    \n",
    "    # Now lets change 'No' to np.nan (to match the other columns)\n",
    "    df = df.replace(['No', 'no'], np.nan)\n",
    "    \n",
    "    # Let's assume that all na values indicate \"no\"     \n",
    "    df[categorical_cols] = df[categorical_cols].fillna('n')\n",
    "    \n",
    "    # Lets use the Location as the index\n",
    "    df = df.set_index('Location')\n",
    "    \n",
    "    return df"
   ]
  },
  {
   "cell_type": "markdown",
   "metadata": {},
   "source": [
    "#### Numerical\n",
    "\n",
    "Now that we have set up our functions for our categorical features, we will need to handle our numerical features <br>\n",
    "Luckily this is a bit easier, we simply need to remove the nan values\n"
   ]
  },
  {
   "cell_type": "code",
   "execution_count": 7,
   "metadata": {},
   "outputs": [],
   "source": [
    "numerical_cols = ['Yelp', 'Google', 'Cost', 'Hunger', 'Mass (g)', 'Density (g/mL)',\n",
    "       'Length', 'Circum', 'Volume', 'Tortilla', 'Temp', 'Meat', 'Fillings',\n",
    "       'Meat:filling', 'Uniformity', 'Salsa', 'Synergy', 'Wrap']\n",
    "\n",
    "def clean_numerical(df):\n",
    "    # Since there are many nan values in our dataset, we will have to replace those values, I have chosen to replace them with 0     \n",
    "    df[numerical_cols] = df[numerical_cols].fillna(0)\n",
    "\n",
    "    return df"
   ]
  },
  {
   "cell_type": "markdown",
   "metadata": {
    "colab_type": "text",
    "id": "V-r9VFXGNDYi"
   },
   "source": [
    "### Do train/validate/test split\n",
    "1) Training data - We will use this data to train our model<br>\n",
    "2) Validation Data - We will use this data to validate that our model is working properly<br>\n",
    "3) Test Data - Finally, we will test our model on this data set.<br>\n",
    "By using this method, we reduce the chances of creating a biased model that is overfit to our data.<br>\n",
    "While you can choose to slice up you data in many different ways, today we will split it by year, as the following:<br>\n",
    "<b>Train on reviews from 2016 & earlier. Validate on 2017. Test on 2018 & later.</b>"
   ]
  },
  {
   "cell_type": "code",
   "execution_count": 8,
   "metadata": {
    "colab": {},
    "colab_type": "code",
    "id": "iCSW2gSTO7L2"
   },
   "outputs": [],
   "source": [
    "# First lets convert the \"Date\" column to datetime format, this will be easier to work with\n",
    "df['Date'] = pd.to_datetime(df['Date']) \n",
    "\n",
    "# Training data should be 2016 or earlier\n",
    "df_train = df[df['Date'].dt.year < 2017]\n",
    "# Validation should be 2017\n",
    "df_val = df[df['Date'].dt.year == 2017]\n",
    "# Test should be 2018 or later\n",
    "df_test = df[df['Date'].dt.year > 2017]"
   ]
  },
  {
   "cell_type": "markdown",
   "metadata": {
    "colab_type": "text",
    "id": "yoYlNeRGNJWK"
   },
   "source": [
    "### Determine baseline accuracy for a naïve classification model\n",
    "As we can see below, it is most likely that the burrito will be classified as not Great. There is ~56% chance that the \"Great\" column will be false. So for our naive model, we can assume that there are NO \"Great\" burritos."
   ]
  },
  {
   "cell_type": "code",
   "execution_count": 9,
   "metadata": {
    "colab": {},
    "colab_type": "code",
    "id": "Ku0QDc4qssET"
   },
   "outputs": [
    {
     "data": {
      "text/plain": [
       "0.5676959619952494"
      ]
     },
     "execution_count": 9,
     "metadata": {},
     "output_type": "execute_result"
    }
   ],
   "source": [
    "# We can create a copy of our target series, then replace all values with False to represent the predictions from our naive model\n",
    "naive_pred = df[\"Great\"].copy().replace(True, False)\n",
    "accuracy_score(df[\"Great\"], naive_pred)"
   ]
  },
  {
   "cell_type": "markdown",
   "metadata": {
    "colab_type": "text",
    "id": "3G7N-f7FNTwu"
   },
   "source": [
    "### Create a `scikit-learn` pipeline\n",
    "Now we can use all of the functions we created earlier to prepare our data frame for the pipeline"
   ]
  },
  {
   "cell_type": "code",
   "execution_count": 10,
   "metadata": {
    "colab": {},
    "colab_type": "code",
    "id": "vKpTLm4btK7b"
   },
   "outputs": [],
   "source": [
    "def prepare_df(df):\n",
    "    # Using the functions we created earlier     \n",
    "    df = remove_unused(df)\n",
    "    df = clean_numerical(df)\n",
    "    df = clean_categorical(df)\n",
    "    return df\n",
    "\n",
    "def pipeline(df):\n",
    "    # Step 1 prepare\n",
    "    df = prepare_df(df)\n",
    "    \n",
    "    # define our target     \n",
    "    y = df[\"Great\"]\n",
    "    \n",
    "    # Unfortunately, the target can not be a part of our taining data... That would make it too easy.\n",
    "    X = df.drop([\"Great\"], axis=1)\n",
    "    \n",
    "    # Step 2 Creating a pipeline that will 1) impute any nan values that we may have missed and 2) Scale numerical features\n",
    "    numeric_transformer = Pipeline(steps=[\n",
    "        ('imputer', SimpleImputer(strategy='median')),\n",
    "        ('scaler', StandardScaler())])\n",
    "\n",
    "    # Step 3 This pipeline will use the OneHotEncoder to create new columns to represent the ingredients numerically.\n",
    "    categorical_transformer = Pipeline(steps=[\n",
    "        ('imputer', SimpleImputer(strategy='constant', fill_value='missing')),\n",
    "        ('onehot', OneHotEncoder(handle_unknown='ignore'))])\n",
    "\n",
    "    # Step 4 This ColumnTransformer allows us to run our pipelines on specific columns     \n",
    "    preprocessor = ColumnTransformer(\n",
    "        transformers=[\n",
    "            ('num', numeric_transformer, numerical_cols),\n",
    "            ('cat', categorical_transformer, categorical_cols)])\n",
    "\n",
    "    # Step 5 Finally we can add out LogisticRegression model to the end of the pipeline\n",
    "    clf = Pipeline(steps=[('preprocessor', preprocessor),\n",
    "                          ('classifier', LogisticRegression())])\n",
    "    # Step 6 train the model\n",
    "    clf.fit(X, y)\n",
    "    return clf"
   ]
  },
  {
   "cell_type": "markdown",
   "metadata": {},
   "source": [
    "###### What just happened?\n",
    "<ul>In the cell above we have setup all of the steps needed to create and train our model.</ul><br>\n",
    "1) Clean up our df with the functions we defined earlier<br>\n",
    "2) Created a numeric transformer using the [Standard Scaler](https://scikit-learn.org/stable/modules/generated/sklearn.preprocessing.StandardScaler.html)<br>\n",
    "3) Created a transformer to encode categorical features with the [One Hot Encoder](https://scikit-learn.org/stable/modules/generated/sklearn.preprocessing.OneHotEncoder.html)<br>\n",
    "4) Applied the two transformers to the appropriate columns, using a Column Transformer<br>\n",
    "5) Added a [LogisticRegressor](https://scikit-learn.org/stable/modules/generated/sklearn.linear_model.LogisticRegression.html) to the end of the pipeline <br>\n",
    "6) Then we train our model"
   ]
  },
  {
   "cell_type": "markdown",
   "metadata": {
    "colab_type": "text",
    "id": "vpzhx5iJNsGs"
   },
   "source": [
    "### Train model using training data\n",
    "Now we just need to run the pipeline function that we have created!"
   ]
  },
  {
   "cell_type": "code",
   "execution_count": 11,
   "metadata": {},
   "outputs": [],
   "source": [
    "clf = pipeline(df_train)"
   ]
  },
  {
   "cell_type": "markdown",
   "metadata": {
    "colab_type": "text",
    "id": "zaBBzwJ5N0mD"
   },
   "source": [
    "### Create visualization of model coefficients\n",
    "To get the names that were generated by the one hot encoder, we have to dig into our pipeline to remove them."
   ]
  },
  {
   "cell_type": "code",
   "execution_count": 12,
   "metadata": {},
   "outputs": [
    {
     "data": {
      "image/png": "[encoded data removed]",
      "text/plain": [
       "<Figure size 1440x1440 with 1 Axes>"
      ]
     },
     "metadata": {},
     "output_type": "display_data"
    }
   ],
   "source": [
    "# First we have to extract the feature names that were created by our encoder\n",
    "feature_names = (clf.named_steps['preprocessor']\n",
    "                      .named_transformers_['cat']\n",
    "                      .named_steps['onehot']\n",
    "                      .get_feature_names(input_features=categorical_cols))\n",
    "\n",
    "# Now that we have the categorical names, we can add them back into the numerical names\n",
    "feature_names = np.concatenate(\n",
    "    [feature_names, numerical_cols])\n",
    "\n",
    "coefs = pd.DataFrame(\n",
    "    clf.named_steps['classifier'].coef_[0],\n",
    "    columns=['Coefficients'], index=feature_names\n",
    ")\n",
    "\n",
    "coefs.plot(kind='barh', figsize=(20, 20))\n",
    "plt.title('Burrito Greatness Model Coefs')\n",
    "plt.axvline(x=0, color='.5')\n",
    "plt.subplots_adjust(left=.7)"
   ]
  },
  {
   "cell_type": "markdown",
   "metadata": {},
   "source": [
    "<b>By observing the visualization above, we can see how each feature is influencing the model. It looks like there is a positive relationship between fries and Great burritos</b>"
   ]
  },
  {
   "cell_type": "markdown",
   "metadata": {
    "colab_type": "text",
    "id": "ACl7NaeROBn3"
   },
   "source": [
    "### Get model's validation accuracy\n",
    "Looks like our model actually outperforms the naive model"
   ]
  },
  {
   "cell_type": "code",
   "execution_count": 13,
   "metadata": {
    "colab": {},
    "colab_type": "code",
    "id": "PHIMBkQwut7r",
    "scrolled": false
   },
   "outputs": [
    {
     "data": {
      "text/plain": [
       "0.8117647058823529"
      ]
     },
     "execution_count": 13,
     "metadata": {},
     "output_type": "execute_result"
    }
   ],
   "source": [
    "val_y = df_val[\"Great\"]\n",
    "pred = clf.predict(prepare_df(df_val).drop(\"Great\", axis=1))\n",
    "accuracy_score(val_y, pred)"
   ]
  },
  {
   "cell_type": "markdown",
   "metadata": {
    "colab_type": "text",
    "id": "K3xJZKOaOE1p"
   },
   "source": [
    "### Get your model's test accuracy\n",
    "Now we can test it! We performed slightly worse on this data set, but it is still significantly better than the naive method."
   ]
  },
  {
   "cell_type": "code",
   "execution_count": 14,
   "metadata": {
    "colab": {},
    "colab_type": "code",
    "id": "gJ9HEVcIxJt7"
   },
   "outputs": [
    {
     "data": {
      "text/plain": [
       "0.7894736842105263"
      ]
     },
     "execution_count": 14,
     "metadata": {},
     "output_type": "execute_result"
    }
   ],
   "source": [
    "test_y = df_test[\"Great\"]\n",
    "pred = clf.predict(prepare_df(df_test).drop(\"Great\", axis=1))\n",
    "accuracy_score(test_y, pred)"
   ]
  }
 ],
 "metadata": {
  "colab": {
   "collapsed_sections": [],
   "name": "2020-07-13_associate-instructor-technical.ipynb",
   "provenance": []
  },
  "kernelspec": {
   "display_name": "Python 3",
   "language": "python",
   "name": "python3"
  },
  "language_info": {
   "codemirror_mode": {
    "name": "ipython",
    "version": 3
   },
   "file_extension": ".py",
   "mimetype": "text/x-python",
   "name": "python",
   "nbconvert_exporter": "python",
   "pygments_lexer": "ipython3",
   "version": "3.6.8"
  }
 },
 "nbformat": 4,
 "nbformat_minor": 1
}
